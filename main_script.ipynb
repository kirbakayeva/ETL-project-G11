{
 "cells": [
  {
   "cell_type": "code",
   "execution_count": null,
   "metadata": {},
   "outputs": [],
   "source": [
    "import requests\n",
    "import pandas as pd \n",
    "from pprint import pprint\n",
    "from config import api_key\n",
    "\n",
    "url = \"https://api.open.fec.gov/v1/schedules/schedule_b/efile/?api_key=jPMgPRnJ2DQzVAfACrXcruSn2rFHKybK7JIePccQ&committee_id=C00580100\""
   ]
  },
  {
   "cell_type": "code",
   "execution_count": null,
   "metadata": {},
   "outputs": [],
   "source": [
    "committee_trump = \"C00580100\"\n",
    "committee_biden = \"C00703975\""
   ]
  },
  {
   "cell_type": "code",
   "execution_count": null,
   "metadata": {},
   "outputs": [],
   "source": [
    "query_url_trump = url + \"api_key=\" + api_key + \"&committee_id=\" + committee_trump\n",
    "disbursements_t = requests.get(query_url_trump).json()\n",
    "disbursements_t_list = disbursements_t[\"results\"]\n",
    "# pprint(disbursements_t_list)"
   ]
  },
  {
   "cell_type": "code",
   "execution_count": null,
   "metadata": {},
   "outputs": [],
   "source": [
    "committee_keys_to_keep = [\"committee_id\", \"name\", \"committee_type\", \"city\"]\n",
    "committee_dict = disbursements_t_list[0]['committee']\n",
    "committee_dic_f = dict((k, committee_dict[k]) for k in committee_keys_to_keep if k in committee_dict)\n",
    "pprint(committee_dic_f)\n",
    "committee_t_info = pd.DataFrame.from_dict(committee_dic_f)"
   ]
  },
  {
   "cell_type": "code",
   "execution_count": null,
   "metadata": {},
   "outputs": [],
   "source": [
    "disb_t_keys_to_keep = [\"disbursement_date\", \"recipient_city\", \"disbursement_type\", \"recipient_name\", \"recipient_state\", \"committee_id\", \"disbursement_description\" ]\n",
    "for disbursements in disbursements_t_list:\n",
    "     for disburse in disbursements:\n",
    "# pprint(listed)\n",
    "type(disbursements_t_list)"
   ]
  }
 ],
 "metadata": {
  "kernelspec": {
   "display_name": "Python 3",
   "language": "python",
   "name": "python3"
  },
  "language_info": {
   "codemirror_mode": {
    "name": "ipython",
    "version": 3
   },
   "file_extension": ".py",
   "mimetype": "text/x-python",
   "name": "python",
   "nbconvert_exporter": "python",
   "pygments_lexer": "ipython3",
   "version": "3.7.6"
  }
 },
 "nbformat": 4,
 "nbformat_minor": 4
}
