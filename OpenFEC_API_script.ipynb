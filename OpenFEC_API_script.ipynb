{
 "cells": [
  {
   "cell_type": "markdown",
   "metadata": {},
   "source": [
    "# Purpose of this notebook is to extract, transform, and load the from the OpenFEC API the campaign (committee) funds spending data and committe attribute data in two tables in PostgresSQL "
   ]
  },
  {
   "cell_type": "markdown",
   "metadata": {},
   "source": [
    "### Import Libraries and Define Variables for API Parameters"
   ]
  },
  {
   "cell_type": "code",
   "execution_count": 3,
   "metadata": {},
   "outputs": [],
   "source": [
    "import requests\n",
    "import pandas as pd \n",
    "from pprint import pprint\n",
    "from config import api_key\n",
    "import os\n",
    "\n",
    "url = \"https://api.open.fec.gov/v1/schedules/schedule_b/efile/?\""
   ]
  },
  {
   "cell_type": "code",
   "execution_count": 220,
   "metadata": {},
   "outputs": [],
   "source": [
    "committee_trump = \"C00580100\"\n",
    "committee_biden = \"C00703975\"\n"
   ]
  },
  {
   "cell_type": "markdown",
   "metadata": {},
   "source": [
    "### Make API Calls for Candidates and Append Results to Lists"
   ]
  },
  {
   "cell_type": "code",
   "execution_count": 179,
   "metadata": {},
   "outputs": [
    {
     "data": {
      "text/plain": [
       "261"
      ]
     },
     "execution_count": 179,
     "metadata": {},
     "output_type": "execute_result"
    }
   ],
   "source": [
    "# API Call for Candidate Trump 261 times at rate of 100 maximum records per call to get all results\n",
    "resulted_t = []\n",
    "for i in range (0,261):\n",
    "    n_page = str(i+1)\n",
    "    query_url_trump = url + \"api_key=\" + api_key + \"&committee_id=\" + committee_trump + \"&per_page=100\" + \"&page=\" + n_page\n",
    "    disbursements_t = requests.get(query_url_trump).json()\n",
    "    disbursements_t_list = disbursements_t[\"results\"]\n",
    "    resulted_t.append(disbursements_t_list)"
   ]
  },
  {
   "cell_type": "code",
   "execution_count": 185,
   "metadata": {},
   "outputs": [],
   "source": [
    "# API Call for Candidate Biden 330 times at rate of 100 maximum records per call to get all results\n",
    "resulted_b = []\n",
    "for i in range (0,330):\n",
    "    n_page = str(i+1)\n",
    "    query_url_biden = url + \"api_key=\" + api_key + \"&committee_id=\" + committee_biden + \"&per_page=100\" + \"&page=\" + n_page\n",
    "    disbursements_b = requests.get(query_url_biden).json()\n",
    "    disbursements_b_list = disbursements_b[\"results\"]\n",
    "    resulted_b.append(disbursements_b_list)"
   ]
  },
  {
   "cell_type": "markdown",
   "metadata": {},
   "source": [
    "### Create Committee Dictionaries from Results lists and merge into a Dataframe"
   ]
  },
  {
   "cell_type": "code",
   "execution_count": 212,
   "metadata": {},
   "outputs": [],
   "source": [
    "# Create committee data dictionary for Trump\n",
    "committee_keys_to_keep = [\"committee_id\", \"name\", \"committee_type\"]\n",
    "# committee_dict = disbursements_t_list[0]['committee']\n",
    "committee_dict = resulted_t[0][0]['committee']\n",
    "committee_dic_t = dict((k, committee_dict[k]) for k in committee_keys_to_keep if k in committee_dict)"
   ]
  },
  {
   "cell_type": "code",
   "execution_count": 213,
   "metadata": {},
   "outputs": [],
   "source": [
    "# Create committee data dictionary for Biden\n",
    "committee_keys_to_keep2 = [\"committee_id\", \"name\", \"committee_type\"]\n",
    "# committee_dict = disbursements_t_list[0]['committee']\n",
    "committee_dict = resulted_b[0][0]['committee']\n",
    "committee_dic_b = dict((k, committee_dict[k]) for k in committee_keys_to_keep2 if k in committee_dict)"
   ]
  },
  {
   "cell_type": "code",
   "execution_count": 215,
   "metadata": {},
   "outputs": [
    {
     "data": {
      "text/html": [
       "<div>\n",
       "<style scoped>\n",
       "    .dataframe tbody tr th:only-of-type {\n",
       "        vertical-align: middle;\n",
       "    }\n",
       "\n",
       "    .dataframe tbody tr th {\n",
       "        vertical-align: top;\n",
       "    }\n",
       "\n",
       "    .dataframe thead th {\n",
       "        text-align: right;\n",
       "    }\n",
       "</style>\n",
       "<table border=\"1\" class=\"dataframe\">\n",
       "  <thead>\n",
       "    <tr style=\"text-align: right;\">\n",
       "      <th></th>\n",
       "      <th>committee_id</th>\n",
       "      <th>name</th>\n",
       "      <th>committee_type</th>\n",
       "    </tr>\n",
       "  </thead>\n",
       "  <tbody>\n",
       "    <tr>\n",
       "      <th>0</th>\n",
       "      <td>C00703975</td>\n",
       "      <td>BIDEN FOR PRESIDENT</td>\n",
       "      <td>P</td>\n",
       "    </tr>\n",
       "    <tr>\n",
       "      <th>1</th>\n",
       "      <td>C00580100</td>\n",
       "      <td>DONALD J. TRUMP FOR PRESIDENT, INC.</td>\n",
       "      <td>P</td>\n",
       "    </tr>\n",
       "  </tbody>\n",
       "</table>\n",
       "</div>"
      ],
      "text/plain": [
       "  committee_id                                 name committee_type\n",
       "0    C00703975                  BIDEN FOR PRESIDENT              P\n",
       "1    C00580100  DONALD J. TRUMP FOR PRESIDENT, INC.              P"
      ]
     },
     "execution_count": 215,
     "metadata": {},
     "output_type": "execute_result"
    }
   ],
   "source": [
    "# Combine the two committee dictionary and create a dataframe\n",
    "def mergeDict(dict1, dict2):\n",
    "    dict_3 = {**dict1, **dict2}\n",
    "    for key, value in dict_3.items():\n",
    "        if key in dict1 and key in dict2:\n",
    "            dict_3[key] = [value , dict1[key]]\n",
    "    return dict_3\n",
    "dict_com = mergeDict(committee_dic_t, committee_dic_b)\n",
    "\n",
    "committee = pd.DataFrame.from_dict(dict_com)\n",
    "committee"
   ]
  },
  {
   "cell_type": "markdown",
   "metadata": {},
   "source": [
    "### Create Disbursements Dataframes from Results lists and merge into one Dataframe"
   ]
  },
  {
   "cell_type": "code",
   "execution_count": 222,
   "metadata": {},
   "outputs": [],
   "source": [
    "# Filter out key disbursement attributes  for Candidate Trump into a Dataframe\n",
    "dictionary_trump = {}\n",
    "dictionary_trump[\"disbursement_date\"] = []\n",
    "dictionary_trump[\"recipient_name\"] = []\n",
    "dictionary_trump[\"recipient_state\"] = []\n",
    "dictionary_trump[\"committee_id\"] = []\n",
    "dictionary_trump[\"disbursement_description\"] = []\n",
    "dictionary_trump[\"disbursement_amount\"] = []\n",
    "\n",
    "\n",
    "for result in  resulted_t:                 \n",
    "    for disbursements in result:                 \n",
    "        for disburse, disbursevalue in disbursements.items():\n",
    "            if disburse == \"disbursement_date\":\n",
    "                dictionary_trump[\"disbursement_date\"].append(disbursevalue)\n",
    "                      \n",
    "for result in  resulted_t:                 \n",
    "    for disbursements in result:                 \n",
    "        for disburse, disbursevalue in disbursements.items():\n",
    "            if disburse == \"recipient_name\":\n",
    "                dictionary_trump[\"recipient_name\"].append(disbursevalue)\n",
    "\n",
    "for result in  resulted_t:                 \n",
    "    for disbursements in result:                 \n",
    "        for disburse, disbursevalue in disbursements.items():\n",
    "            if disburse == \"recipient_state\":\n",
    "                dictionary_trump[\"recipient_state\"].append(disbursevalue)\n",
    "            \n",
    "for result in  resulted_t:                 \n",
    "    for disbursements in result:                 \n",
    "        for disburse, disbursevalue in disbursements.items():\n",
    "            if disburse == \"committee_id\":\n",
    "                dictionary_trump[\"committee_id\"].append(disbursevalue)\n",
    "            \n",
    "for result in  resulted_t:                 \n",
    "    for disbursements in result:                 \n",
    "        for disburse, disbursevalue in disbursements.items():\n",
    "            if disburse == \"disbursement_description\":\n",
    "                dictionary_trump[\"disbursement_description\"].append(disbursevalue)\n",
    "\n",
    "for result in  resulted_t:                 \n",
    "    for disbursements in result:                 \n",
    "        for disburse, disbursevalue in disbursements.items():\n",
    "            if disburse == \"disbursement_amount\":\n",
    "                dictionary_trump[\"disbursement_amount\"].append(disbursevalue)\n",
    "            \n",
    "trump_info = pd.DataFrame.from_dict(dictionary_trump)"
   ]
  },
  {
   "cell_type": "code",
   "execution_count": 223,
   "metadata": {},
   "outputs": [],
   "source": [
    "# Filter out key disbursement attributes  for Candidate Biden into a Dataframe\n",
    "dictionary_biden = {}\n",
    "dictionary_biden[\"disbursement_date\"] = []\n",
    "dictionary_biden[\"recipient_name\"] = []\n",
    "dictionary_biden[\"recipient_state\"] = []\n",
    "dictionary_biden[\"committee_id\"] = []\n",
    "dictionary_biden[\"disbursement_description\"] = []\n",
    "dictionary_biden[\"disbursement_amount\"] = []\n",
    "\n",
    "\n",
    "for result in  resulted_b:                 \n",
    "    for disbursements in result:                 \n",
    "        for disburse, disbursevalue in disbursements.items():\n",
    "            if disburse == \"disbursement_date\":\n",
    "                dictionary_biden[\"disbursement_date\"].append(disbursevalue)\n",
    "            \n",
    "for result in  resulted_b:                 \n",
    "    for disbursements in result:                 \n",
    "        for disburse, disbursevalue in disbursements.items():\n",
    "            if disburse == \"recipient_name\":\n",
    "                dictionary_biden[\"recipient_name\"].append(disbursevalue)\n",
    "\n",
    "for result in  resulted_b:                 \n",
    "    for disbursements in result:                 \n",
    "        for disburse, disbursevalue in disbursements.items():\n",
    "            if disburse == \"recipient_state\":\n",
    "                dictionary_biden[\"recipient_state\"].append(disbursevalue)\n",
    "            \n",
    "for result in  resulted_b:                 \n",
    "    for disbursements in result:                 \n",
    "        for disburse, disbursevalue in disbursements.items():\n",
    "            if disburse == \"committee_id\":\n",
    "                dictionary_biden[\"committee_id\"].append(disbursevalue)\n",
    "            \n",
    "for result in  resulted_b:                 \n",
    "    for disbursements in result:                 \n",
    "        for disburse, disbursevalue in disbursements.items():\n",
    "            if disburse == \"disbursement_description\":\n",
    "                dictionary_biden[\"disbursement_description\"].append(disbursevalue)\n",
    "            \n",
    "for result in  resulted_b:                 \n",
    "    for disbursements in result:                 \n",
    "        for disburse, disbursevalue in disbursements.items():\n",
    "            if disburse == \"disbursement_amount\":\n",
    "                dictionary_biden[\"disbursement_amount\"].append(disbursevalue)\n",
    "            \n",
    "biden_info = pd.DataFrame.from_dict(dictionary_biden)"
   ]
  },
  {
   "cell_type": "code",
   "execution_count": 224,
   "metadata": {},
   "outputs": [
    {
     "data": {
      "text/html": [
       "<div>\n",
       "<style scoped>\n",
       "    .dataframe tbody tr th:only-of-type {\n",
       "        vertical-align: middle;\n",
       "    }\n",
       "\n",
       "    .dataframe tbody tr th {\n",
       "        vertical-align: top;\n",
       "    }\n",
       "\n",
       "    .dataframe thead th {\n",
       "        text-align: right;\n",
       "    }\n",
       "</style>\n",
       "<table border=\"1\" class=\"dataframe\">\n",
       "  <thead>\n",
       "    <tr style=\"text-align: right;\">\n",
       "      <th></th>\n",
       "      <th>disbursement_date</th>\n",
       "      <th>recipient_name</th>\n",
       "      <th>recipient_state</th>\n",
       "      <th>committee_id</th>\n",
       "      <th>disbursement_description</th>\n",
       "      <th>disbursement_amount</th>\n",
       "    </tr>\n",
       "  </thead>\n",
       "  <tbody>\n",
       "    <tr>\n",
       "      <th>0</th>\n",
       "      <td>2020-10-14</td>\n",
       "      <td>LEGENDARY CAMPAIGNS, LLC</td>\n",
       "      <td>DC</td>\n",
       "      <td>C00580100</td>\n",
       "      <td>ONLINE ADVERTISING</td>\n",
       "      <td>80.85</td>\n",
       "    </tr>\n",
       "    <tr>\n",
       "      <th>1</th>\n",
       "      <td>2020-10-14</td>\n",
       "      <td>STRIPE</td>\n",
       "      <td>CA</td>\n",
       "      <td>C00580100</td>\n",
       "      <td>MERCHANT FEES</td>\n",
       "      <td>0.77</td>\n",
       "    </tr>\n",
       "    <tr>\n",
       "      <th>2</th>\n",
       "      <td>2020-10-14</td>\n",
       "      <td>WINRED TECHNICAL SERVICES LLC</td>\n",
       "      <td>VA</td>\n",
       "      <td>C00580100</td>\n",
       "      <td>MERCHANT FEES</td>\n",
       "      <td>227550.23</td>\n",
       "    </tr>\n",
       "    <tr>\n",
       "      <th>3</th>\n",
       "      <td>2020-10-14</td>\n",
       "      <td>STRIPE</td>\n",
       "      <td>CA</td>\n",
       "      <td>C00580100</td>\n",
       "      <td>MERCHANT FEES</td>\n",
       "      <td>5133.02</td>\n",
       "    </tr>\n",
       "    <tr>\n",
       "      <th>4</th>\n",
       "      <td>2020-10-14</td>\n",
       "      <td>EVENT RESOURCE GROUP, INC.</td>\n",
       "      <td>FL</td>\n",
       "      <td>C00580100</td>\n",
       "      <td>AUDIO VISUAL SERVICES</td>\n",
       "      <td>113207.74</td>\n",
       "    </tr>\n",
       "    <tr>\n",
       "      <th>...</th>\n",
       "      <td>...</td>\n",
       "      <td>...</td>\n",
       "      <td>...</td>\n",
       "      <td>...</td>\n",
       "      <td>...</td>\n",
       "      <td>...</td>\n",
       "    </tr>\n",
       "    <tr>\n",
       "      <th>32973</th>\n",
       "      <td>2020-03-18</td>\n",
       "      <td>Avis Rent A Car</td>\n",
       "      <td>NJ</td>\n",
       "      <td>C00703975</td>\n",
       "      <td>Vehicle Rental</td>\n",
       "      <td>197.43</td>\n",
       "    </tr>\n",
       "    <tr>\n",
       "      <th>32974</th>\n",
       "      <td>2020-02-14</td>\n",
       "      <td>American Express</td>\n",
       "      <td>NY</td>\n",
       "      <td>C00703975</td>\n",
       "      <td>Credit Card Fees</td>\n",
       "      <td>90.00</td>\n",
       "    </tr>\n",
       "    <tr>\n",
       "      <th>32975</th>\n",
       "      <td>2020-02-14</td>\n",
       "      <td>American Express</td>\n",
       "      <td>NY</td>\n",
       "      <td>C00703975</td>\n",
       "      <td>Credit Card Fees</td>\n",
       "      <td>67.50</td>\n",
       "    </tr>\n",
       "    <tr>\n",
       "      <th>32976</th>\n",
       "      <td>2020-02-14</td>\n",
       "      <td>American Express</td>\n",
       "      <td>NY</td>\n",
       "      <td>C00703975</td>\n",
       "      <td>Credit Card Fees</td>\n",
       "      <td>90.00</td>\n",
       "    </tr>\n",
       "    <tr>\n",
       "      <th>32977</th>\n",
       "      <td>2020-02-14</td>\n",
       "      <td>American Express</td>\n",
       "      <td>NY</td>\n",
       "      <td>C00703975</td>\n",
       "      <td>Credit Card Fees</td>\n",
       "      <td>90.00</td>\n",
       "    </tr>\n",
       "  </tbody>\n",
       "</table>\n",
       "<p>59052 rows × 6 columns</p>\n",
       "</div>"
      ],
      "text/plain": [
       "      disbursement_date                 recipient_name recipient_state  \\\n",
       "0            2020-10-14       LEGENDARY CAMPAIGNS, LLC              DC   \n",
       "1            2020-10-14                         STRIPE              CA   \n",
       "2            2020-10-14  WINRED TECHNICAL SERVICES LLC              VA   \n",
       "3            2020-10-14                         STRIPE              CA   \n",
       "4            2020-10-14     EVENT RESOURCE GROUP, INC.              FL   \n",
       "...                 ...                            ...             ...   \n",
       "32973        2020-03-18                Avis Rent A Car              NJ   \n",
       "32974        2020-02-14               American Express              NY   \n",
       "32975        2020-02-14               American Express              NY   \n",
       "32976        2020-02-14               American Express              NY   \n",
       "32977        2020-02-14               American Express              NY   \n",
       "\n",
       "      committee_id disbursement_description  disbursement_amount  \n",
       "0        C00580100       ONLINE ADVERTISING                80.85  \n",
       "1        C00580100            MERCHANT FEES                 0.77  \n",
       "2        C00580100            MERCHANT FEES            227550.23  \n",
       "3        C00580100            MERCHANT FEES              5133.02  \n",
       "4        C00580100    AUDIO VISUAL SERVICES            113207.74  \n",
       "...            ...                      ...                  ...  \n",
       "32973    C00703975           Vehicle Rental               197.43  \n",
       "32974    C00703975         Credit Card Fees                90.00  \n",
       "32975    C00703975         Credit Card Fees                67.50  \n",
       "32976    C00703975         Credit Card Fees                90.00  \n",
       "32977    C00703975         Credit Card Fees                90.00  \n",
       "\n",
       "[59052 rows x 6 columns]"
      ]
     },
     "execution_count": 224,
     "metadata": {},
     "output_type": "execute_result"
    }
   ],
   "source": [
    "# Combie two dataframes into one dataframe\n",
    "candidatepds = [trump_info, biden_info]\n",
    "spending = pd.concat(candidatepds)\n",
    "spending"
   ]
  },
  {
   "cell_type": "code",
   "execution_count": 4,
   "metadata": {},
   "outputs": [
    {
     "ename": "NameError",
     "evalue": "name 'spending' is not defined",
     "output_type": "error",
     "traceback": [
      "\u001b[1;31m---------------------------------------------------------------------------\u001b[0m",
      "\u001b[1;31mNameError\u001b[0m                                 Traceback (most recent call last)",
      "\u001b[1;32m<ipython-input-4-9d6113d6f9f6>\u001b[0m in \u001b[0;36m<module>\u001b[1;34m\u001b[0m\n\u001b[0;32m      1\u001b[0m \u001b[0moutput_file\u001b[0m \u001b[1;33m=\u001b[0m \u001b[0mos\u001b[0m\u001b[1;33m.\u001b[0m\u001b[0mpath\u001b[0m\u001b[1;33m.\u001b[0m\u001b[0mjoin\u001b[0m\u001b[1;33m(\u001b[0m\u001b[1;34m\"Output_API\"\u001b[0m\u001b[1;33m,\u001b[0m \u001b[1;34m\"spending_df.csv\"\u001b[0m\u001b[1;33m)\u001b[0m\u001b[1;33m\u001b[0m\u001b[1;33m\u001b[0m\u001b[0m\n\u001b[0;32m      2\u001b[0m \u001b[1;33m\u001b[0m\u001b[0m\n\u001b[1;32m----> 3\u001b[1;33m \u001b[0mspending\u001b[0m\u001b[1;33m.\u001b[0m\u001b[0mto_csv\u001b[0m\u001b[1;33m(\u001b[0m\u001b[0moutput_file\u001b[0m\u001b[1;33m,\u001b[0m \u001b[0mindex\u001b[0m\u001b[1;33m=\u001b[0m\u001b[1;32mFalse\u001b[0m\u001b[1;33m,\u001b[0m \u001b[0mheader\u001b[0m\u001b[1;33m=\u001b[0m\u001b[1;32mTrue\u001b[0m\u001b[1;33m)\u001b[0m\u001b[1;33m\u001b[0m\u001b[1;33m\u001b[0m\u001b[0m\n\u001b[0m",
      "\u001b[1;31mNameError\u001b[0m: name 'spending' is not defined"
     ]
    }
   ],
   "source": [
    "output_file = os.path.join(\"Output_API\", \"spending_df.csv\")\n",
    "\n",
    "spending.to_csv(output_file, index=False, header=True)"
   ]
  },
  {
   "cell_type": "markdown",
   "metadata": {},
   "source": [
    "### Connect to Local Postgres SQL database and Check for tables"
   ]
  },
  {
   "cell_type": "code",
   "execution_count": null,
   "metadata": {},
   "outputs": [],
   "source": [
    "# Connect to local database\n",
    "pg_user = 'postgres'\n",
    "pg_password = 'postgres'\n",
    "db_name = 'Candidate'\n",
    "\n",
    "\n",
    "connection_string = f\"{pg_user}:{pg_password}@localhost:5432/{db_name}\"\n",
    "engine = create_engine(f'postgresql://{connection_string}')"
   ]
  },
  {
   "cell_type": "code",
   "execution_count": null,
   "metadata": {},
   "outputs": [],
   "source": [
    "# Check for tables\n",
    "engine.table_names()"
   ]
  },
  {
   "cell_type": "markdown",
   "metadata": {},
   "source": [
    "### Load Dataframes into Database and Confirm data has been added"
   ]
  },
  {
   "cell_type": "code",
   "execution_count": null,
   "metadata": {},
   "outputs": [],
   "source": [
    "### Use Pandas to load Dataframes into database\n",
    "spending.to_sql(name='Candidate_Spending', con=engine, if_exists='append', index=False)\n",
    "committee.to_sql(name='Candidates', con=engine, if_exists='append', index=False)\n"
   ]
  },
  {
   "cell_type": "code",
   "execution_count": null,
   "metadata": {},
   "outputs": [],
   "source": [
    "# Confirm both tables have been added\n",
    "pd.read_sql_query('select * from Candidate_Spending', con=engine).head()\n",
    "pd.read_sql_query('select * from Candidates', con=engine).head()"
   ]
  }
 ],
 "metadata": {
  "kernelspec": {
   "display_name": "Python 3",
   "language": "python",
   "name": "python3"
  },
  "language_info": {
   "codemirror_mode": {
    "name": "ipython",
    "version": 3
   },
   "file_extension": ".py",
   "mimetype": "text/x-python",
   "name": "python",
   "nbconvert_exporter": "python",
   "pygments_lexer": "ipython3",
   "version": "3.7.6"
  }
 },
 "nbformat": 4,
 "nbformat_minor": 4
}
