{
 "cells": [
  {
   "cell_type": "code",
   "execution_count": null,
   "metadata": {},
   "outputs": [],
   "source": [
    "import pandas as pd\n",
    "import os\n",
    "import matplotlib.pyplot as plt\n",
    "import numpy as np\n",
    "from datetime import datetime\n",
    "from pprint import pprint\n",
    "import csv\n",
    "import glob "
   ]
  },
  {
   "cell_type": "code",
   "execution_count": null,
   "metadata": {},
   "outputs": [],
   "source": [
    "# READ CSV\n",
    "state_table = os.path.join(\"Resources\", \"state_table.csv\")\n",
    "state_df = pd.read_csv(state_table)\n",
    "state_df = state_df[[\"name\", \"abbreviation\"]]\n",
    "state_df = state_df.rename(columns = {\"name\": \"State\"})\n",
    "state_df = state_df.rename(columns = {\"abbreviation\": \"Abbreviation\"})\n",
    "state_df.head()"
   ]
  },
  {
   "cell_type": "code",
   "execution_count": null,
   "metadata": {},
   "outputs": [],
   "source": [
    "#Read csv file and convert it to dataframe\n",
    "population_table = os.path.join(\"Resources\", \"ST_Population_2019.csv\")\n",
    "population_df = pd.read_csv(population_table)\n",
    "population_df = population_df[[\"NAME\", \"POPESTIMATE2019\"]]\n",
    "population_df.head()"
   ]
  },
  {
   "cell_type": "code",
   "execution_count": null,
   "metadata": {},
   "outputs": [],
   "source": [
    "# Align states in two dataframes\n",
    "state_df[\"Population\"] = population_df[\"POPESTIMATE2019\"]\n",
    "state_df.head()"
   ]
  },
  {
   "cell_type": "code",
   "execution_count": null,
   "metadata": {},
   "outputs": [],
   "source": [
    "# Write DataFrame to CSV\n",
    "state_df.to_csv('..','Resources','state_population.csv', index=False)"
   ]
  },
  {
   "cell_type": "code",
   "execution_count": null,
   "metadata": {},
   "outputs": [],
   "source": []
  },
  {
   "cell_type": "code",
   "execution_count": null,
   "metadata": {},
   "outputs": [],
   "source": []
  }
 ],
 "metadata": {
  "kernelspec": {
   "display_name": "Python 3",
   "language": "python",
   "name": "python3"
  },
  "language_info": {
   "codemirror_mode": {
    "name": "ipython",
    "version": 3
   },
   "file_extension": ".py",
   "mimetype": "text/x-python",
   "name": "python",
   "nbconvert_exporter": "python",
   "pygments_lexer": "ipython3",
   "version": "3.7.6"
  }
 },
 "nbformat": 4,
 "nbformat_minor": 4
}
